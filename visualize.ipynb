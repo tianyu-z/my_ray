{
 "cells": [
  {
   "cell_type": "code",
   "execution_count": null,
   "metadata": {},
   "outputs": [
    {
     "ename": "",
     "evalue": "",
     "output_type": "error",
     "traceback": [
      "\u001b[1;31mRunning cells with 'ray38' requires the ipykernel package.\n",
      "\u001b[1;31mRun the following command to install 'ipykernel' into the Python environment. \n",
      "\u001b[1;31mCommand: 'conda install -n ray38 ipykernel --update-deps --force-reinstall'"
     ]
    }
   ],
   "source": [
    "import pandas as pd\n",
    "import matplotlib.pyplot as plt\n",
    "\n",
    "def plot_values_over_time(csv_file_path):\n",
    "    # Read the CSV file into a DataFrame\n",
    "    df = pd.read_csv(csv_file_path)\n",
    "\n",
    "    # Plot the graph\n",
    "    plt.plot(df['episode_step'], df['CC'], label='CC')\n",
    "    plt.plot(df['episode_step'], df['DD'], label='DD')\n",
    "    plt.plot(df['episode_step'], df['CD'], label='CD')\n",
    "    plt.plot(df['episode_step'], df['DC'], label='DC')\n",
    "\n",
    "    # Customize the graph\n",
    "    plt.xlabel('Episode Step')\n",
    "    plt.ylabel('Values')\n",
    "    plt.title('Value Changes Over Time')\n",
    "    plt.legend()\n",
    "\n",
    "    # Show the graph\n",
    "    plt.show()\n",
    "\n",
    "# Example usage\n",
    "csv_file_path = 'custom_metrics.csv'\n",
    "plot_values_over_time(csv_file_path)\n"
   ]
  }
 ],
 "metadata": {
  "kernelspec": {
   "display_name": "ray38",
   "language": "python",
   "name": "python3"
  },
  "language_info": {
   "name": "python",
   "version": "3.8.16"
  },
  "orig_nbformat": 4
 },
 "nbformat": 4,
 "nbformat_minor": 2
}
